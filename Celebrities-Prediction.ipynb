{
 "cells": [
  {
   "cell_type": "markdown",
   "metadata": {},
   "source": [
    "# Importing necessary Modules"
   ]
  },
  {
   "cell_type": "code",
   "execution_count": 26,
   "metadata": {},
   "outputs": [],
   "source": [
    "import os\n",
    "import cv2\n",
    "import numpy as np\n",
    "import matplotlib.pyplot as plt\n",
    "from tensorflow.keras.models import Sequential\n",
    "from tensorflow.keras.layers import Conv2D, MaxPooling2D, Dense, Flatten, Dropout\n",
    "from tensorflow.keras.preprocessing.image import ImageDataGenerator\n",
    "from tensorflow.keras.utils import to_categorical\n",
    "from sklearn.model_selection import train_test_split"
   ]
  },
  {
   "cell_type": "markdown",
   "metadata": {},
   "source": [
    "# Data Pre-Processing"
   ]
  },
  {
   "cell_type": "code",
   "execution_count": 27,
   "metadata": {},
   "outputs": [],
   "source": [
    "dataset=os.path.join(os.path.abspath(''),r\"dataset\")\n",
    "\n",
    "images=[]\n",
    "classes=[]\n"
   ]
  },
  {
   "cell_type": "code",
   "execution_count": 28,
   "metadata": {},
   "outputs": [],
   "source": [
    "for dirs in os.listdir(dataset):\n",
    "    imagepath=os.path.join(dataset,dirs)\n",
    "    for image in os.listdir(imagepath):\n",
    "        img=cv2.imread(os.path.join(imagepath,image))\n",
    "        resize=cv2.resize(img,(32,32))\n",
    "        img=cv2.cvtColor(resize,cv2.COLOR_BGR2GRAY)\n",
    "        img=cv2.equalizeHist(img)\n",
    "        img=img/255\n",
    "        images.append(img)\n",
    "        classes.append(dirs)"
   ]
  },
  {
   "cell_type": "code",
   "execution_count": 29,
   "metadata": {},
   "outputs": [
    {
     "data": {
      "text/plain": [
       "763"
      ]
     },
     "execution_count": 29,
     "metadata": {},
     "output_type": "execute_result"
    }
   ],
   "source": [
    "len(images)"
   ]
  },
  {
   "cell_type": "code",
   "execution_count": 30,
   "metadata": {},
   "outputs": [
    {
     "data": {
      "text/plain": [
       "763"
      ]
     },
     "execution_count": 30,
     "metadata": {},
     "output_type": "execute_result"
    }
   ],
   "source": [
    "len(classes)"
   ]
  },
  {
   "cell_type": "code",
   "execution_count": 31,
   "metadata": {},
   "outputs": [],
   "source": [
    "X=np.array(images)\n",
    "Y=np.array(classes)\n"
   ]
  },
  {
   "cell_type": "code",
   "execution_count": 32,
   "metadata": {},
   "outputs": [
    {
     "data": {
      "text/plain": [
       "(763, 32, 32)"
      ]
     },
     "execution_count": 32,
     "metadata": {},
     "output_type": "execute_result"
    }
   ],
   "source": [
    "X.shape"
   ]
  },
  {
   "cell_type": "code",
   "execution_count": 33,
   "metadata": {},
   "outputs": [
    {
     "data": {
      "text/plain": [
       "(763,)"
      ]
     },
     "execution_count": 33,
     "metadata": {},
     "output_type": "execute_result"
    }
   ],
   "source": [
    "Y.shape"
   ]
  },
  {
   "cell_type": "markdown",
   "metadata": {},
   "source": [
    "# Creating Hold out Environment"
   ]
  },
  {
   "cell_type": "code",
   "execution_count": 34,
   "metadata": {},
   "outputs": [],
   "source": [
    "X_train, X_test, Y_train, Y_test=train_test_split(X, Y, test_size=0.2)"
   ]
  },
  {
   "cell_type": "code",
   "execution_count": 35,
   "metadata": {},
   "outputs": [
    {
     "data": {
      "text/plain": [
       "(610, 32, 32)"
      ]
     },
     "execution_count": 35,
     "metadata": {},
     "output_type": "execute_result"
    }
   ],
   "source": [
    "X_train.shape"
   ]
  },
  {
   "cell_type": "code",
   "execution_count": 36,
   "metadata": {},
   "outputs": [
    {
     "data": {
      "text/plain": [
       "(153, 32, 32)"
      ]
     },
     "execution_count": 36,
     "metadata": {},
     "output_type": "execute_result"
    }
   ],
   "source": [
    "X_test.shape"
   ]
  },
  {
   "cell_type": "code",
   "execution_count": 37,
   "metadata": {},
   "outputs": [
    {
     "data": {
      "text/plain": [
       "(610,)"
      ]
     },
     "execution_count": 37,
     "metadata": {},
     "output_type": "execute_result"
    }
   ],
   "source": [
    "Y_train.shape"
   ]
  },
  {
   "cell_type": "markdown",
   "metadata": {},
   "source": [
    "# Creating model"
   ]
  },
  {
   "cell_type": "code",
   "execution_count": 38,
   "metadata": {},
   "outputs": [],
   "source": [
    "outputtobeclassified = len(os.listdir(dataset))\n",
    "\n",
    "noOfFilters=60\n",
    "sizeOfFilter1=(5,5)\n",
    "sizeOfFilter2=(3,3)\n",
    "sizeOfPool=(2,2)\n",
    "noOfNode=500\n",
    "model=Sequential()\n",
    "model.add((Conv2D(noOfFilters, sizeOfFilter1, input_shape=(32,32,1), activation=\"relu\")))\n",
    "model.add((Conv2D(noOfFilters, sizeOfFilter1, activation=\"relu\")))\n",
    "model.add((MaxPooling2D(pool_size=sizeOfPool)))\n",
    "model.add((Conv2D(noOfFilters//2, sizeOfFilter2, activation=\"relu\")))\n",
    "model.add((Conv2D(noOfFilters//2, sizeOfFilter2, activation=\"relu\")))\n",
    "model.add((MaxPooling2D(pool_size=sizeOfPool)))\n",
    "model.add(Dropout(0.5))\n",
    "model.add(Flatten())\n",
    "model.add(Dense(noOfNode,activation=\"relu\"))\n",
    "model.add(Dropout(0.5)) \n",
    "model.add(Dense(outputtobeclassified,activation=\"softmax\"))\n",
    "model.compile(optimizer=\"adam\", loss=\"categorical_crossentropy\",metrics=['accuracy'])"
   ]
  },
  {
   "cell_type": "code",
   "execution_count": 40,
   "metadata": {},
   "outputs": [],
   "source": [
    "X_train=X_train.reshape(X_train.shape[0],X_train.shape[1],X_train.shape[2],1)\n",
    "X_test=X_test.reshape(X_test.shape[0],X_test.shape[1],X_test.shape[2],1)"
   ]
  },
  {
   "cell_type": "code",
   "execution_count": 41,
   "metadata": {},
   "outputs": [
    {
     "data": {
      "text/plain": [
       "(610, 32, 32, 1)"
      ]
     },
     "execution_count": 41,
     "metadata": {},
     "output_type": "execute_result"
    }
   ],
   "source": [
    "X_train.shape"
   ]
  },
  {
   "cell_type": "code",
   "execution_count": 42,
   "metadata": {},
   "outputs": [
    {
     "data": {
      "text/plain": [
       "(153, 32, 32, 1)"
      ]
     },
     "execution_count": 42,
     "metadata": {},
     "output_type": "execute_result"
    }
   ],
   "source": [
    "X_test.shape"
   ]
  },
  {
   "cell_type": "markdown",
   "metadata": {},
   "source": [
    "# One hot encoding "
   ]
  },
  {
   "cell_type": "code",
   "execution_count": 46,
   "metadata": {},
   "outputs": [],
   "source": [
    "y_train=to_categorical(Y_train, outputtobeclassified)\n",
    "y_test=to_categorical(Y_test, outputtobeclassified)"
   ]
  },
  {
   "cell_type": "markdown",
   "metadata": {},
   "source": [
    "# Image Augumentation"
   ]
  },
  {
   "cell_type": "code",
   "execution_count": 47,
   "metadata": {},
   "outputs": [],
   "source": [
    "dataGen=ImageDataGenerator(width_shift_range=0.1,\n",
    "                          height_shift_range=0.1,\n",
    "                          zoom_range=0.2,\n",
    "                          shear_range=0.1,\n",
    "                          rotation_range=10)"
   ]
  },
  {
   "cell_type": "markdown",
   "metadata": {},
   "source": [
    "# Training the  Model"
   ]
  },
  {
   "cell_type": "code",
   "execution_count": 51,
   "metadata": {},
   "outputs": [
    {
     "name": "stdout",
     "output_type": "stream",
     "text": [
      "Epoch 1/122\n",
      "122/122 [==============================] - 5s 40ms/step - loss: 1.6109 - accuracy: 0.1951 - val_loss: 1.6059 - val_accuracy: 0.2026\n",
      "Epoch 2/122\n",
      "122/122 [==============================] - 5s 39ms/step - loss: 1.6078 - accuracy: 0.2164 - val_loss: 1.6077 - val_accuracy: 0.2353\n",
      "Epoch 3/122\n",
      "122/122 [==============================] - 5s 39ms/step - loss: 1.6044 - accuracy: 0.2246 - val_loss: 1.6016 - val_accuracy: 0.2549\n",
      "Epoch 4/122\n",
      "122/122 [==============================] - 5s 40ms/step - loss: 1.6038 - accuracy: 0.2180 - val_loss: 1.5950 - val_accuracy: 0.2418\n",
      "Epoch 5/122\n",
      "122/122 [==============================] - 5s 39ms/step - loss: 1.5873 - accuracy: 0.2361 - val_loss: 1.5883 - val_accuracy: 0.2418\n",
      "Epoch 6/122\n",
      "122/122 [==============================] - 5s 39ms/step - loss: 1.6032 - accuracy: 0.2344 - val_loss: 1.6008 - val_accuracy: 0.2418\n",
      "Epoch 7/122\n",
      "122/122 [==============================] - 5s 40ms/step - loss: 1.5828 - accuracy: 0.2459 - val_loss: 1.6604 - val_accuracy: 0.2157\n",
      "Epoch 8/122\n",
      "122/122 [==============================] - 5s 40ms/step - loss: 1.5928 - accuracy: 0.2213 - val_loss: 1.5947 - val_accuracy: 0.2484\n",
      "Epoch 9/122\n",
      "122/122 [==============================] - 5s 40ms/step - loss: 1.5770 - accuracy: 0.2230 - val_loss: 1.6192 - val_accuracy: 0.2549\n",
      "Epoch 10/122\n",
      "122/122 [==============================] - 5s 40ms/step - loss: 1.5828 - accuracy: 0.2590 - val_loss: 1.5895 - val_accuracy: 0.2614\n",
      "Epoch 11/122\n",
      "122/122 [==============================] - 5s 41ms/step - loss: 1.5706 - accuracy: 0.2574 - val_loss: 1.5863 - val_accuracy: 0.2549\n",
      "Epoch 12/122\n",
      "122/122 [==============================] - 5s 40ms/step - loss: 1.5811 - accuracy: 0.2361 - val_loss: 1.6084 - val_accuracy: 0.2745\n",
      "Epoch 13/122\n",
      "122/122 [==============================] - 5s 40ms/step - loss: 1.5902 - accuracy: 0.2246 - val_loss: 1.5863 - val_accuracy: 0.2549\n",
      "Epoch 14/122\n",
      "122/122 [==============================] - 5s 41ms/step - loss: 1.5768 - accuracy: 0.2377 - val_loss: 1.5879 - val_accuracy: 0.2941\n",
      "Epoch 15/122\n",
      "122/122 [==============================] - 5s 40ms/step - loss: 1.5725 - accuracy: 0.2508 - val_loss: 1.6185 - val_accuracy: 0.3072\n",
      "Epoch 16/122\n",
      "122/122 [==============================] - 5s 41ms/step - loss: 1.5744 - accuracy: 0.2689 - val_loss: 1.5746 - val_accuracy: 0.2876\n",
      "Epoch 17/122\n",
      "122/122 [==============================] - 5s 41ms/step - loss: 1.5662 - accuracy: 0.2836 - val_loss: 1.5812 - val_accuracy: 0.3007\n",
      "Epoch 18/122\n",
      "122/122 [==============================] - 5s 40ms/step - loss: 1.5553 - accuracy: 0.2656 - val_loss: 1.5741 - val_accuracy: 0.2876\n",
      "Epoch 19/122\n",
      "122/122 [==============================] - 5s 40ms/step - loss: 1.5647 - accuracy: 0.2885 - val_loss: 1.5976 - val_accuracy: 0.2810\n",
      "Epoch 20/122\n",
      "122/122 [==============================] - 5s 41ms/step - loss: 1.5279 - accuracy: 0.3148 - val_loss: 1.5698 - val_accuracy: 0.3072\n",
      "Epoch 21/122\n",
      "122/122 [==============================] - 5s 40ms/step - loss: 1.5376 - accuracy: 0.3328 - val_loss: 1.5745 - val_accuracy: 0.2680\n",
      "Epoch 22/122\n",
      "122/122 [==============================] - 5s 40ms/step - loss: 1.5480 - accuracy: 0.3082 - val_loss: 1.6066 - val_accuracy: 0.1961\n",
      "Epoch 23/122\n",
      "122/122 [==============================] - 5s 41ms/step - loss: 1.5154 - accuracy: 0.3115 - val_loss: 1.5749 - val_accuracy: 0.2810\n",
      "Epoch 24/122\n",
      "122/122 [==============================] - 5s 41ms/step - loss: 1.5338 - accuracy: 0.3180 - val_loss: 1.5440 - val_accuracy: 0.3137\n",
      "Epoch 25/122\n",
      "122/122 [==============================] - 5s 40ms/step - loss: 1.5084 - accuracy: 0.3148 - val_loss: 1.5916 - val_accuracy: 0.2876\n",
      "Epoch 26/122\n",
      "122/122 [==============================] - 5s 40ms/step - loss: 1.5101 - accuracy: 0.3262 - val_loss: 1.5306 - val_accuracy: 0.3268\n",
      "Epoch 27/122\n",
      "122/122 [==============================] - 5s 41ms/step - loss: 1.5055 - accuracy: 0.3557 - val_loss: 1.4875 - val_accuracy: 0.3725\n",
      "Epoch 28/122\n",
      "122/122 [==============================] - 5s 40ms/step - loss: 1.4908 - accuracy: 0.3393 - val_loss: 1.5366 - val_accuracy: 0.3203\n",
      "Epoch 29/122\n",
      "122/122 [==============================] - 5s 41ms/step - loss: 1.4610 - accuracy: 0.3738 - val_loss: 1.4935 - val_accuracy: 0.3922\n",
      "Epoch 30/122\n",
      "122/122 [==============================] - 5s 41ms/step - loss: 1.4712 - accuracy: 0.3639 - val_loss: 1.5145 - val_accuracy: 0.3268\n",
      "Epoch 31/122\n",
      "122/122 [==============================] - 5s 40ms/step - loss: 1.4431 - accuracy: 0.3590 - val_loss: 1.5001 - val_accuracy: 0.3399\n",
      "Epoch 32/122\n",
      "122/122 [==============================] - 5s 41ms/step - loss: 1.4478 - accuracy: 0.3967 - val_loss: 1.4683 - val_accuracy: 0.3922\n",
      "Epoch 33/122\n",
      "122/122 [==============================] - 5s 42ms/step - loss: 1.4136 - accuracy: 0.4016 - val_loss: 1.4282 - val_accuracy: 0.4248\n",
      "Epoch 34/122\n",
      "122/122 [==============================] - 5s 40ms/step - loss: 1.3985 - accuracy: 0.4148 - val_loss: 1.4527 - val_accuracy: 0.3922\n",
      "Epoch 35/122\n",
      "122/122 [==============================] - 5s 41ms/step - loss: 1.3614 - accuracy: 0.4443 - val_loss: 1.3757 - val_accuracy: 0.4706\n",
      "Epoch 36/122\n",
      "122/122 [==============================] - 5s 41ms/step - loss: 1.4272 - accuracy: 0.4066 - val_loss: 1.4380 - val_accuracy: 0.4444\n",
      "Epoch 37/122\n",
      "122/122 [==============================] - 5s 41ms/step - loss: 1.3422 - accuracy: 0.4311 - val_loss: 1.4449 - val_accuracy: 0.3791\n",
      "Epoch 38/122\n",
      "122/122 [==============================] - 5s 40ms/step - loss: 1.3189 - accuracy: 0.4393 - val_loss: 1.3987 - val_accuracy: 0.4118\n",
      "Epoch 39/122\n",
      "122/122 [==============================] - 5s 40ms/step - loss: 1.2908 - accuracy: 0.4639 - val_loss: 1.3959 - val_accuracy: 0.4510\n",
      "Epoch 40/122\n",
      "122/122 [==============================] - 5s 40ms/step - loss: 1.2939 - accuracy: 0.4492 - val_loss: 1.3404 - val_accuracy: 0.4575\n",
      "Epoch 41/122\n",
      "122/122 [==============================] - 5s 39ms/step - loss: 1.2939 - accuracy: 0.4525 - val_loss: 1.3399 - val_accuracy: 0.4575\n",
      "Epoch 42/122\n",
      "122/122 [==============================] - 5s 40ms/step - loss: 1.3249 - accuracy: 0.4541 - val_loss: 1.3674 - val_accuracy: 0.4641\n",
      "Epoch 43/122\n",
      "122/122 [==============================] - 5s 41ms/step - loss: 1.2990 - accuracy: 0.4689 - val_loss: 1.3047 - val_accuracy: 0.4510\n",
      "Epoch 44/122\n",
      "122/122 [==============================] - 5s 39ms/step - loss: 1.2346 - accuracy: 0.5164 - val_loss: 1.3742 - val_accuracy: 0.4575\n",
      "Epoch 45/122\n",
      "122/122 [==============================] - 5s 40ms/step - loss: 1.2407 - accuracy: 0.4918 - val_loss: 1.3050 - val_accuracy: 0.4837\n",
      "Epoch 46/122\n",
      "122/122 [==============================] - 5s 41ms/step - loss: 1.2483 - accuracy: 0.4902 - val_loss: 1.3142 - val_accuracy: 0.4641\n",
      "Epoch 47/122\n",
      "122/122 [==============================] - 5s 40ms/step - loss: 1.2498 - accuracy: 0.5148 - val_loss: 1.2600 - val_accuracy: 0.5621\n",
      "Epoch 48/122\n",
      "122/122 [==============================] - 5s 40ms/step - loss: 1.2736 - accuracy: 0.4770 - val_loss: 1.3634 - val_accuracy: 0.4314\n",
      "Epoch 49/122\n",
      "122/122 [==============================] - 5s 41ms/step - loss: 1.2226 - accuracy: 0.5148 - val_loss: 1.2698 - val_accuracy: 0.4641\n",
      "Epoch 50/122\n",
      "122/122 [==============================] - 5s 39ms/step - loss: 1.2480 - accuracy: 0.5098 - val_loss: 1.3172 - val_accuracy: 0.4706\n",
      "Epoch 51/122\n",
      "122/122 [==============================] - 5s 39ms/step - loss: 1.2055 - accuracy: 0.4967 - val_loss: 1.2669 - val_accuracy: 0.4902\n",
      "Epoch 52/122\n",
      "122/122 [==============================] - 5s 40ms/step - loss: 1.1729 - accuracy: 0.5213 - val_loss: 1.3255 - val_accuracy: 0.4641\n",
      "Epoch 53/122\n",
      "122/122 [==============================] - 5s 40ms/step - loss: 1.2403 - accuracy: 0.4689 - val_loss: 1.3362 - val_accuracy: 0.4314\n",
      "Epoch 54/122\n",
      "122/122 [==============================] - 5s 40ms/step - loss: 1.1825 - accuracy: 0.5115 - val_loss: 1.3109 - val_accuracy: 0.5033\n",
      "Epoch 55/122\n",
      "122/122 [==============================] - 5s 39ms/step - loss: 1.1489 - accuracy: 0.5131 - val_loss: 1.2653 - val_accuracy: 0.4641\n",
      "Epoch 56/122\n",
      "122/122 [==============================] - 5s 41ms/step - loss: 1.1985 - accuracy: 0.5131 - val_loss: 1.3351 - val_accuracy: 0.4641\n",
      "Epoch 57/122\n",
      "122/122 [==============================] - 5s 39ms/step - loss: 1.1526 - accuracy: 0.5443 - val_loss: 1.2531 - val_accuracy: 0.5033\n",
      "Epoch 58/122\n",
      "122/122 [==============================] - 5s 39ms/step - loss: 1.1649 - accuracy: 0.5180 - val_loss: 1.2697 - val_accuracy: 0.5098\n",
      "Epoch 59/122\n",
      "122/122 [==============================] - 5s 40ms/step - loss: 1.1572 - accuracy: 0.5164 - val_loss: 1.4431 - val_accuracy: 0.4510\n",
      "Epoch 60/122\n",
      "122/122 [==============================] - 5s 39ms/step - loss: 1.1222 - accuracy: 0.5574 - val_loss: 1.2727 - val_accuracy: 0.5163\n",
      "Epoch 61/122\n",
      "122/122 [==============================] - 5s 39ms/step - loss: 1.1403 - accuracy: 0.5262 - val_loss: 1.2876 - val_accuracy: 0.4902\n",
      "Epoch 62/122\n",
      "122/122 [==============================] - 5s 40ms/step - loss: 1.1443 - accuracy: 0.5328 - val_loss: 1.2245 - val_accuracy: 0.5098\n",
      "Epoch 63/122\n",
      "122/122 [==============================] - 5s 39ms/step - loss: 1.1652 - accuracy: 0.5295 - val_loss: 1.2655 - val_accuracy: 0.4706\n",
      "Epoch 64/122\n",
      "122/122 [==============================] - 5s 39ms/step - loss: 1.1234 - accuracy: 0.5623 - val_loss: 1.4967 - val_accuracy: 0.4379\n",
      "Epoch 65/122\n",
      "122/122 [==============================] - 5s 40ms/step - loss: 1.1373 - accuracy: 0.5525 - val_loss: 1.2377 - val_accuracy: 0.4771\n",
      "Epoch 66/122\n",
      "122/122 [==============================] - 5s 40ms/step - loss: 1.0356 - accuracy: 0.5721 - val_loss: 1.2493 - val_accuracy: 0.4902\n",
      "Epoch 67/122\n",
      "122/122 [==============================] - 5s 39ms/step - loss: 1.0803 - accuracy: 0.5836 - val_loss: 1.2528 - val_accuracy: 0.4967\n",
      "Epoch 68/122\n",
      "122/122 [==============================] - 5s 40ms/step - loss: 1.1143 - accuracy: 0.5557 - val_loss: 1.2799 - val_accuracy: 0.5163\n",
      "Epoch 69/122\n",
      "122/122 [==============================] - 5s 41ms/step - loss: 1.0623 - accuracy: 0.5770 - val_loss: 1.2078 - val_accuracy: 0.5098\n",
      "Epoch 70/122\n",
      "122/122 [==============================] - 5s 39ms/step - loss: 1.0813 - accuracy: 0.5623 - val_loss: 1.2315 - val_accuracy: 0.4967\n",
      "Epoch 71/122\n",
      "122/122 [==============================] - 5s 40ms/step - loss: 1.0697 - accuracy: 0.5787 - val_loss: 1.1474 - val_accuracy: 0.5425\n",
      "Epoch 72/122\n",
      "122/122 [==============================] - 5s 42ms/step - loss: 1.0175 - accuracy: 0.5836 - val_loss: 1.4209 - val_accuracy: 0.5033\n",
      "Epoch 73/122\n",
      "122/122 [==============================] - 5s 41ms/step - loss: 1.0792 - accuracy: 0.5689 - val_loss: 1.2836 - val_accuracy: 0.5033\n",
      "Epoch 74/122\n",
      "122/122 [==============================] - 5s 40ms/step - loss: 1.0439 - accuracy: 0.5689 - val_loss: 1.2899 - val_accuracy: 0.5098\n",
      "Epoch 75/122\n",
      "122/122 [==============================] - 5s 41ms/step - loss: 1.0407 - accuracy: 0.5639 - val_loss: 1.3297 - val_accuracy: 0.4837\n",
      "Epoch 76/122\n",
      "122/122 [==============================] - 5s 39ms/step - loss: 1.0186 - accuracy: 0.5918 - val_loss: 1.2670 - val_accuracy: 0.5229\n",
      "Epoch 77/122\n",
      "122/122 [==============================] - 5s 40ms/step - loss: 1.0081 - accuracy: 0.6000 - val_loss: 1.1999 - val_accuracy: 0.5294\n",
      "Epoch 78/122\n",
      "122/122 [==============================] - 5s 40ms/step - loss: 1.0031 - accuracy: 0.5951 - val_loss: 1.3178 - val_accuracy: 0.5033\n",
      "Epoch 79/122\n",
      "122/122 [==============================] - 5s 40ms/step - loss: 0.9757 - accuracy: 0.6033 - val_loss: 1.2783 - val_accuracy: 0.5033\n",
      "Epoch 80/122\n",
      "122/122 [==============================] - 5s 40ms/step - loss: 1.0116 - accuracy: 0.6115 - val_loss: 1.2487 - val_accuracy: 0.4967\n",
      "Epoch 81/122\n",
      "122/122 [==============================] - 5s 40ms/step - loss: 0.9716 - accuracy: 0.6295 - val_loss: 1.3744 - val_accuracy: 0.4967\n",
      "Epoch 82/122\n",
      "122/122 [==============================] - 5s 41ms/step - loss: 1.0048 - accuracy: 0.6098 - val_loss: 1.2409 - val_accuracy: 0.5163\n",
      "Epoch 83/122\n",
      "122/122 [==============================] - 5s 40ms/step - loss: 0.9397 - accuracy: 0.6230 - val_loss: 1.3058 - val_accuracy: 0.4902\n",
      "Epoch 84/122\n",
      "122/122 [==============================] - 5s 40ms/step - loss: 0.9720 - accuracy: 0.6082 - val_loss: 1.3744 - val_accuracy: 0.4967\n",
      "Epoch 85/122\n",
      "122/122 [==============================] - 5s 41ms/step - loss: 0.9822 - accuracy: 0.6148 - val_loss: 1.2953 - val_accuracy: 0.5033\n",
      "Epoch 86/122\n",
      "122/122 [==============================] - 5s 40ms/step - loss: 0.9623 - accuracy: 0.6377 - val_loss: 1.2784 - val_accuracy: 0.4837\n",
      "Epoch 87/122\n",
      "122/122 [==============================] - 5s 40ms/step - loss: 0.9774 - accuracy: 0.6098 - val_loss: 1.1862 - val_accuracy: 0.5359\n",
      "Epoch 88/122\n",
      "122/122 [==============================] - 5s 41ms/step - loss: 0.9138 - accuracy: 0.6344 - val_loss: 1.3388 - val_accuracy: 0.5359\n",
      "Epoch 89/122\n",
      "122/122 [==============================] - 5s 40ms/step - loss: 0.9013 - accuracy: 0.6410 - val_loss: 1.3188 - val_accuracy: 0.5098\n",
      "Epoch 90/122\n",
      "122/122 [==============================] - 5s 40ms/step - loss: 0.9080 - accuracy: 0.6574 - val_loss: 1.3714 - val_accuracy: 0.5098\n",
      "Epoch 91/122\n",
      "122/122 [==============================] - 5s 41ms/step - loss: 0.8784 - accuracy: 0.6492 - val_loss: 1.3508 - val_accuracy: 0.5163\n",
      "Epoch 92/122\n",
      "122/122 [==============================] - 5s 40ms/step - loss: 0.8875 - accuracy: 0.6639 - val_loss: 1.2699 - val_accuracy: 0.5621\n",
      "Epoch 93/122\n",
      "122/122 [==============================] - 5s 40ms/step - loss: 0.9486 - accuracy: 0.6131 - val_loss: 1.2900 - val_accuracy: 0.5490\n",
      "Epoch 94/122\n",
      "122/122 [==============================] - 5s 40ms/step - loss: 0.8665 - accuracy: 0.6443 - val_loss: 1.3047 - val_accuracy: 0.4967\n",
      "Epoch 95/122\n",
      "122/122 [==============================] - 5s 41ms/step - loss: 0.9202 - accuracy: 0.6607 - val_loss: 1.4023 - val_accuracy: 0.4837\n",
      "Epoch 96/122\n",
      "122/122 [==============================] - 5s 40ms/step - loss: 0.9185 - accuracy: 0.6607 - val_loss: 1.3287 - val_accuracy: 0.5098\n",
      "Epoch 97/122\n",
      "122/122 [==============================] - 5s 40ms/step - loss: 0.9217 - accuracy: 0.6443 - val_loss: 1.2473 - val_accuracy: 0.5294\n",
      "Epoch 98/122\n",
      "122/122 [==============================] - 5s 41ms/step - loss: 0.9057 - accuracy: 0.6541 - val_loss: 1.3421 - val_accuracy: 0.5163\n",
      "Epoch 99/122\n",
      "122/122 [==============================] - 5s 40ms/step - loss: 0.8560 - accuracy: 0.6689 - val_loss: 1.2531 - val_accuracy: 0.5359\n",
      "Epoch 100/122\n",
      "122/122 [==============================] - 5s 40ms/step - loss: 0.9005 - accuracy: 0.6738 - val_loss: 1.2957 - val_accuracy: 0.5490\n",
      "Epoch 101/122\n",
      "122/122 [==============================] - 5s 41ms/step - loss: 0.8676 - accuracy: 0.6459 - val_loss: 1.2945 - val_accuracy: 0.5033\n",
      "Epoch 102/122\n",
      "122/122 [==============================] - 5s 40ms/step - loss: 0.8223 - accuracy: 0.6656 - val_loss: 1.4607 - val_accuracy: 0.5556\n",
      "Epoch 103/122\n",
      "122/122 [==============================] - 5s 40ms/step - loss: 0.8291 - accuracy: 0.6672 - val_loss: 1.2479 - val_accuracy: 0.5752\n",
      "Epoch 104/122\n",
      "122/122 [==============================] - 5s 41ms/step - loss: 0.8562 - accuracy: 0.6852 - val_loss: 1.4090 - val_accuracy: 0.4902\n",
      "Epoch 105/122\n",
      "122/122 [==============================] - 5s 40ms/step - loss: 0.9111 - accuracy: 0.6443 - val_loss: 1.2474 - val_accuracy: 0.5163\n",
      "Epoch 106/122\n",
      "122/122 [==============================] - 5s 40ms/step - loss: 0.8227 - accuracy: 0.6902 - val_loss: 1.2768 - val_accuracy: 0.5359\n",
      "Epoch 107/122\n",
      "122/122 [==============================] - 5s 40ms/step - loss: 0.8449 - accuracy: 0.6754 - val_loss: 1.3142 - val_accuracy: 0.5425\n",
      "Epoch 108/122\n",
      "122/122 [==============================] - 5s 41ms/step - loss: 0.8386 - accuracy: 0.6590 - val_loss: 1.2699 - val_accuracy: 0.5294\n",
      "Epoch 109/122\n",
      "122/122 [==============================] - 5s 40ms/step - loss: 0.8265 - accuracy: 0.6836 - val_loss: 1.4339 - val_accuracy: 0.5359\n",
      "Epoch 110/122\n",
      "122/122 [==============================] - 5s 40ms/step - loss: 0.8249 - accuracy: 0.6623 - val_loss: 1.3967 - val_accuracy: 0.5359\n",
      "Epoch 111/122\n",
      "122/122 [==============================] - 5s 41ms/step - loss: 0.8001 - accuracy: 0.6754 - val_loss: 1.4454 - val_accuracy: 0.4967\n",
      "Epoch 112/122\n",
      "122/122 [==============================] - 5s 40ms/step - loss: 0.8058 - accuracy: 0.7016 - val_loss: 1.3142 - val_accuracy: 0.5490\n",
      "Epoch 113/122\n",
      "122/122 [==============================] - 5s 39ms/step - loss: 0.8020 - accuracy: 0.6869 - val_loss: 1.3276 - val_accuracy: 0.4967\n",
      "Epoch 114/122\n",
      "122/122 [==============================] - 5s 40ms/step - loss: 0.8244 - accuracy: 0.7000 - val_loss: 1.5243 - val_accuracy: 0.5229\n",
      "Epoch 115/122\n",
      "122/122 [==============================] - 5s 39ms/step - loss: 0.7662 - accuracy: 0.7098 - val_loss: 1.4736 - val_accuracy: 0.4902\n",
      "Epoch 116/122\n",
      "122/122 [==============================] - 5s 39ms/step - loss: 0.8027 - accuracy: 0.6803 - val_loss: 1.4797 - val_accuracy: 0.4575\n",
      "Epoch 117/122\n",
      "122/122 [==============================] - 5s 40ms/step - loss: 0.7961 - accuracy: 0.6967 - val_loss: 1.5143 - val_accuracy: 0.4902\n",
      "Epoch 118/122\n",
      "122/122 [==============================] - 5s 39ms/step - loss: 0.8408 - accuracy: 0.6459 - val_loss: 1.3905 - val_accuracy: 0.5359\n",
      "Epoch 119/122\n",
      "122/122 [==============================] - 5s 39ms/step - loss: 0.8130 - accuracy: 0.6852 - val_loss: 1.3688 - val_accuracy: 0.5033\n",
      "Epoch 120/122\n",
      "122/122 [==============================] - 5s 40ms/step - loss: 0.7789 - accuracy: 0.6803 - val_loss: 1.4612 - val_accuracy: 0.5229\n",
      "Epoch 121/122\n",
      "122/122 [==============================] - 5s 40ms/step - loss: 0.8068 - accuracy: 0.6672 - val_loss: 1.3694 - val_accuracy: 0.4902\n",
      "Epoch 122/122\n",
      "122/122 [==============================] - 5s 39ms/step - loss: 0.7401 - accuracy: 0.7328 - val_loss: 1.4527 - val_accuracy: 0.5359\n"
     ]
    }
   ],
   "source": [
    "model_training = model.fit_generator(dataGen.flow(X_train,y_train,batch_size=5),\n",
    "                            steps_per_epoch=122,\n",
    "                            epochs=122,\n",
    "                            validation_data=(X_test,y_test),\n",
    "                            shuffle=1)"
   ]
  },
  {
   "cell_type": "markdown",
   "metadata": {},
   "source": [
    "# Save Model"
   ]
  },
  {
   "cell_type": "code",
   "execution_count": 54,
   "metadata": {},
   "outputs": [],
   "source": [
    "model.save('Celebrity_Prediction.h5')"
   ]
  },
  {
   "cell_type": "markdown",
   "metadata": {},
   "source": [
    "# Validate the Model for new data"
   ]
  },
  {
   "cell_type": "code",
   "execution_count": 60,
   "metadata": {},
   "outputs": [],
   "source": [
    "from tensorflow.keras.models import load_model\n",
    "testmodel=load_model('Celebrity_Prediction.h5')"
   ]
  },
  {
   "cell_type": "code",
   "execution_count": 61,
   "metadata": {},
   "outputs": [],
   "source": [
    "imOriginal=os.path.join(os.path.abspath(''),r\"test\\44.jpg\")\n",
    "img=cv2.imread(imOriginal)\n",
    "resize=cv2.resize(img,(32,32)) # as done in previous file\n",
    "img=cv2.cvtColor(resize,cv2.COLOR_BGR2GRAY)\n",
    "img=cv2.equalizeHist(img)\n",
    "img=img/255\n",
    "img=np.array(img) # converting captured image into numpy array\n"
   ]
  },
  {
   "cell_type": "code",
   "execution_count": 62,
   "metadata": {},
   "outputs": [
    {
     "data": {
      "text/plain": [
       "(32, 32)"
      ]
     },
     "execution_count": 62,
     "metadata": {},
     "output_type": "execute_result"
    }
   ],
   "source": [
    "img.shape"
   ]
  },
  {
   "cell_type": "code",
   "execution_count": 63,
   "metadata": {},
   "outputs": [],
   "source": [
    "img = np.reshape(img, (1, 32, 32, 1))"
   ]
  },
  {
   "cell_type": "code",
   "execution_count": 64,
   "metadata": {},
   "outputs": [
    {
     "data": {
      "text/plain": [
       "(1, 32, 32, 1)"
      ]
     },
     "execution_count": 64,
     "metadata": {},
     "output_type": "execute_result"
    }
   ],
   "source": [
    "img.shape"
   ]
  },
  {
   "cell_type": "code",
   "execution_count": 65,
   "metadata": {},
   "outputs": [
    {
     "data": {
      "text/plain": [
       "array([[2.9930568e-04, 4.5058411e-01, 3.7017892e-04, 5.1193661e-06,\n",
       "        5.4874128e-01]], dtype=float32)"
      ]
     },
     "execution_count": 65,
     "metadata": {},
     "output_type": "execute_result"
    }
   ],
   "source": [
    "testmodel.predict(img)"
   ]
  },
  {
   "cell_type": "code",
   "execution_count": 66,
   "metadata": {},
   "outputs": [],
   "source": [
    "predictedvalue=np.argmax(testmodel.predict(img), axis=1)"
   ]
  },
  {
   "cell_type": "code",
   "execution_count": 67,
   "metadata": {},
   "outputs": [
    {
     "data": {
      "text/plain": [
       "array([4], dtype=int64)"
      ]
     },
     "execution_count": 67,
     "metadata": {},
     "output_type": "execute_result"
    }
   ],
   "source": [
    "predictedvalue"
   ]
  },
  {
   "cell_type": "code",
   "execution_count": 116,
   "metadata": {},
   "outputs": [],
   "source": [
    "# np.argmax  is used to find index of the class with highest probability"
   ]
  },
  {
   "cell_type": "code",
   "execution_count": 124,
   "metadata": {},
   "outputs": [
    {
     "data": {
      "text/plain": [
       "1"
      ]
     },
     "execution_count": 124,
     "metadata": {},
     "output_type": "execute_result"
    }
   ],
   "source": [
    "predictedvalue[0]"
   ]
  },
  {
   "cell_type": "code",
   "execution_count": 125,
   "metadata": {},
   "outputs": [
    {
     "data": {
      "text/plain": [
       "numpy.int64"
      ]
     },
     "execution_count": 125,
     "metadata": {},
     "output_type": "execute_result"
    }
   ],
   "source": [
    "type(predictedvalue[0])"
   ]
  },
  {
   "cell_type": "code",
   "execution_count": 69,
   "metadata": {},
   "outputs": [],
   "source": [
    "mapping = {0:\"ELON-MUSK\", 1:\"JIM-CARREY\", 2:\"MOHANLAL\", 3:\"MSDHONI\", 4:\"TOMCRUISE\"}"
   ]
  },
  {
   "cell_type": "code",
   "execution_count": 71,
   "metadata": {},
   "outputs": [
    {
     "name": "stdout",
     "output_type": "stream",
     "text": [
      "TOMCRUISE\n"
     ]
    }
   ],
   "source": [
    "if predictedvalue[0] in mapping:\n",
    "    print(mapping[predictedvalue[0]])"
   ]
  }
 ],
 "metadata": {
  "kernelspec": {
   "display_name": "Python 3",
   "language": "python",
   "name": "python3"
  },
  "language_info": {
   "codemirror_mode": {
    "name": "ipython",
    "version": 3
   },
   "file_extension": ".py",
   "mimetype": "text/x-python",
   "name": "python",
   "nbconvert_exporter": "python",
   "pygments_lexer": "ipython3",
   "version": "3.7.6"
  }
 },
 "nbformat": 4,
 "nbformat_minor": 4
}
